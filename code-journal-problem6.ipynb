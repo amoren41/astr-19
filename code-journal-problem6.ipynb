{
 "cells": [
  {
   "cell_type": "code",
   "execution_count": null,
   "id": "74ca0abf-8ab9-4ba7-8eb1-21a856bc9d81",
   "metadata": {},
   "outputs": [],
   "source": [
    "import math \n",
    "# we must write a function to returen sinx \n",
    "def sin(x):\n",
    "    return math.sin(x)"
   ]
  },
  {
   "cell_type": "code",
   "execution_count": null,
   "id": "20488829-3ca8-42fb-bf56-79f9aef92958",
   "metadata": {},
   "outputs": [],
   "source": [
    "#same thing fucntion to return cos x \n",
    "def cos(x):\n",
    "  return math.cos(x)\n",
    "# now I must creat table for 0 to 2pi for x with 1000 entries "
   ]
  },
  {
   "cell_type": "code",
   "execution_count": null,
   "id": "4d705084-9516-43a7-b36b-db6b8e85b8ee",
   "metadata": {},
   "outputs": [],
   "source": [
    "x_values = []\n",
    "sin_values = []\n",
    "cos_values = []\n",
    "x= 0 \n",
    "step = (2* math.pi)/1000\n",
    "\n",
    "while x <= 2 * math.pi: \n",
    "    x_values.append(x)\n",
    "    sin_values.append(sin(x))\n",
    "    cos_values.append(cos(x))\n",
    "    x+=step\n",
    "    # now we must "
   ]
  },
  {
   "cell_type": "code",
   "execution_count": null,
   "id": "e65cb344-84a3-4dbb-a473-9e509336c9d6",
   "metadata": {},
   "outputs": [],
   "source": [
    "print(\"x\\t\\tsin(x)\\t\\tcos(x)\")\n",
    "for i in range(10):\n",
    "    print(x_values[i], \"\\t\", sin_values[i], \"\\t\", cos_values[i])\n"
   ]
  },
  {
   "cell_type": "code",
   "execution_count": null,
   "id": "d409501b-729f-45d5-90c3-f80bc1eec051",
   "metadata": {},
   "outputs": [],
   "source": []
  }
 ],
 "metadata": {
  "kernelspec": {
   "display_name": "Python 3 (ipykernel)",
   "language": "python",
   "name": "python3"
  },
  "language_info": {
   "codemirror_mode": {
    "name": "ipython",
    "version": 3
   },
   "file_extension": ".py",
   "mimetype": "text/x-python",
   "name": "python",
   "nbconvert_exporter": "python",
   "pygments_lexer": "ipython3",
   "version": "3.13.7"
  }
 },
 "nbformat": 4,
 "nbformat_minor": 5
}
