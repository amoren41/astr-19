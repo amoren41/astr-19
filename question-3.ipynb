{
 "cells": [
  {
   "cell_type": "code",
   "execution_count": null,
   "id": "28f7867c-0a2c-4961-94ee-3b363f067f62",
   "metadata": {},
   "outputs": [],
   "source": [
    "import numpy as np\n",
    "import matplotlib.pyplot as plt\n"
   ]
  },
  {
   "cell_type": "code",
   "execution_count": null,
   "id": "148927bf-8f0b-467a-9ad3-65ed5d0d1fe1",
   "metadata": {},
   "outputs": [],
   "source": []
  },
  {
   "cell_type": "code",
   "execution_count": null,
   "id": "f74aeaeb-79d2-4bd3-9714-196de059ce51",
   "metadata": {},
   "outputs": [],
   "source": [
    "data = np.random.uniform(0, 1, 1000)\n"
   ]
  },
  {
   "cell_type": "code",
   "execution_count": null,
   "id": "d36035fc-414f-46c9-99f6-62b13b760bde",
   "metadata": {},
   "outputs": [],
   "source": [
    "\n",
    "plt.hist(data, bins=100, edgecolor='black')\n",
    "\n",
    "# label axes and title\n",
    "plt.xlabel('numbers')\n",
    "plt.ylabel('average')\n",
    "plt.title('Uniform Distribution Histogram')\n",
    "\n",
    "plt.savefig('uniform_histogram.pdf')\n",
    "\n",
    "plt.show()\n"
   ]
  },
  {
   "cell_type": "code",
   "execution_count": null,
   "id": "64da0200-18f9-40bd-ace2-2e35f3c0c287",
   "metadata": {},
   "outputs": [],
   "source": []
  }
 ],
 "metadata": {
  "kernelspec": {
   "display_name": "Python 3 (ipykernel)",
   "language": "python",
   "name": "python3"
  },
  "language_info": {
   "codemirror_mode": {
    "name": "ipython",
    "version": 3
   },
   "file_extension": ".py",
   "mimetype": "text/x-python",
   "name": "python",
   "nbconvert_exporter": "python",
   "pygments_lexer": "ipython3",
   "version": "3.13.7"
  }
 },
 "nbformat": 4,
 "nbformat_minor": 5
}
